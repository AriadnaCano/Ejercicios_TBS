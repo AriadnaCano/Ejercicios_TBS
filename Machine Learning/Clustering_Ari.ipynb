{
 "cells": [
  {
   "cell_type": "markdown",
   "metadata": {},
   "source": [
    "### Importa los datos\n",
    "Dataset con diferentes fármacos, sus efectos y ratings de los clientes.\n",
    "\n",
    "Importa el dataset *drugLibTrain_raw.tsv*"
   ]
  },
  {
   "cell_type": "code",
   "execution_count": 1,
   "metadata": {},
   "outputs": [],
   "source": [
    "import matplotlib.pyplot as plt"
   ]
  },
  {
   "cell_type": "code",
   "execution_count": 2,
   "metadata": {},
   "outputs": [
    {
     "data": {
      "text/html": [
       "<div>\n",
       "<style scoped>\n",
       "    .dataframe tbody tr th:only-of-type {\n",
       "        vertical-align: middle;\n",
       "    }\n",
       "\n",
       "    .dataframe tbody tr th {\n",
       "        vertical-align: top;\n",
       "    }\n",
       "\n",
       "    .dataframe thead th {\n",
       "        text-align: right;\n",
       "    }\n",
       "</style>\n",
       "<table border=\"1\" class=\"dataframe\">\n",
       "  <thead>\n",
       "    <tr style=\"text-align: right;\">\n",
       "      <th></th>\n",
       "      <th>urlDrugName</th>\n",
       "      <th>rating</th>\n",
       "      <th>effectiveness</th>\n",
       "      <th>sideEffects</th>\n",
       "      <th>condition</th>\n",
       "      <th>benefitsReview</th>\n",
       "      <th>sideEffectsReview</th>\n",
       "      <th>commentsReview</th>\n",
       "    </tr>\n",
       "  </thead>\n",
       "  <tbody>\n",
       "    <tr>\n",
       "      <th>2202</th>\n",
       "      <td>enalapril</td>\n",
       "      <td>4</td>\n",
       "      <td>Highly Effective</td>\n",
       "      <td>Mild Side Effects</td>\n",
       "      <td>management of congestive heart failure</td>\n",
       "      <td>slowed the progression of left ventricular dys...</td>\n",
       "      <td>cough, hypotension , proteinuria, impotence , ...</td>\n",
       "      <td>monitor blood pressure , weight and asses for ...</td>\n",
       "    </tr>\n",
       "    <tr>\n",
       "      <th>3117</th>\n",
       "      <td>ortho-tri-cyclen</td>\n",
       "      <td>1</td>\n",
       "      <td>Highly Effective</td>\n",
       "      <td>Severe Side Effects</td>\n",
       "      <td>birth prevention</td>\n",
       "      <td>Although this type of birth control has more c...</td>\n",
       "      <td>Heavy Cycle, Cramps, Hot Flashes, Fatigue, Lon...</td>\n",
       "      <td>I Hate This Birth Control, I Would Not Suggest...</td>\n",
       "    </tr>\n",
       "    <tr>\n",
       "      <th>1146</th>\n",
       "      <td>ponstel</td>\n",
       "      <td>10</td>\n",
       "      <td>Highly Effective</td>\n",
       "      <td>No Side Effects</td>\n",
       "      <td>menstrual cramps</td>\n",
       "      <td>I was used to having cramps so badly that they...</td>\n",
       "      <td>Heavier bleeding and clotting than normal.</td>\n",
       "      <td>I took 2 pills at the onset of my menstrual cr...</td>\n",
       "    </tr>\n",
       "    <tr>\n",
       "      <th>3947</th>\n",
       "      <td>prilosec</td>\n",
       "      <td>3</td>\n",
       "      <td>Marginally Effective</td>\n",
       "      <td>Mild Side Effects</td>\n",
       "      <td>acid reflux</td>\n",
       "      <td>The acid reflux went away for a few months aft...</td>\n",
       "      <td>Constipation, dry mouth and some mild dizzines...</td>\n",
       "      <td>I was given Prilosec prescription at a dose of...</td>\n",
       "    </tr>\n",
       "    <tr>\n",
       "      <th>1951</th>\n",
       "      <td>lyrica</td>\n",
       "      <td>2</td>\n",
       "      <td>Marginally Effective</td>\n",
       "      <td>Severe Side Effects</td>\n",
       "      <td>fibromyalgia</td>\n",
       "      <td>I think that the Lyrica was starting to help w...</td>\n",
       "      <td>I felt extremely drugged and dopey.  Could not...</td>\n",
       "      <td>See above</td>\n",
       "    </tr>\n",
       "    <tr>\n",
       "      <th>...</th>\n",
       "      <td>...</td>\n",
       "      <td>...</td>\n",
       "      <td>...</td>\n",
       "      <td>...</td>\n",
       "      <td>...</td>\n",
       "      <td>...</td>\n",
       "      <td>...</td>\n",
       "      <td>...</td>\n",
       "    </tr>\n",
       "    <tr>\n",
       "      <th>1039</th>\n",
       "      <td>vyvanse</td>\n",
       "      <td>10</td>\n",
       "      <td>Highly Effective</td>\n",
       "      <td>Mild Side Effects</td>\n",
       "      <td>adhd</td>\n",
       "      <td>Increased focus, attention, productivity. Bett...</td>\n",
       "      <td>Restless legs at night, insomnia, headache (so...</td>\n",
       "      <td>I took adderall once as a child, and it made m...</td>\n",
       "    </tr>\n",
       "    <tr>\n",
       "      <th>3281</th>\n",
       "      <td>zoloft</td>\n",
       "      <td>1</td>\n",
       "      <td>Ineffective</td>\n",
       "      <td>Extremely Severe Side Effects</td>\n",
       "      <td>depression</td>\n",
       "      <td>Emotions were somewhat blunted. Less moodiness.</td>\n",
       "      <td>Weight gain, extreme tiredness during the day,...</td>\n",
       "      <td>I was on Zoloft for about 2 years total. I am ...</td>\n",
       "    </tr>\n",
       "    <tr>\n",
       "      <th>1664</th>\n",
       "      <td>climara</td>\n",
       "      <td>2</td>\n",
       "      <td>Marginally Effective</td>\n",
       "      <td>Moderate Side Effects</td>\n",
       "      <td>total hysterctomy</td>\n",
       "      <td>---</td>\n",
       "      <td>Constant issues with the patch not staying on....</td>\n",
       "      <td>---</td>\n",
       "    </tr>\n",
       "    <tr>\n",
       "      <th>2621</th>\n",
       "      <td>trileptal</td>\n",
       "      <td>8</td>\n",
       "      <td>Considerably Effective</td>\n",
       "      <td>Mild Side Effects</td>\n",
       "      <td>epilepsy</td>\n",
       "      <td>Controlled complex partial seizures.</td>\n",
       "      <td>Dizziness, fatigue, nausea</td>\n",
       "      <td>Started at 2 doses of 300 mg a day and worked ...</td>\n",
       "    </tr>\n",
       "    <tr>\n",
       "      <th>2748</th>\n",
       "      <td>micardis</td>\n",
       "      <td>4</td>\n",
       "      <td>Moderately Effective</td>\n",
       "      <td>Moderate Side Effects</td>\n",
       "      <td>high blood pressure</td>\n",
       "      <td>The drug Micardis did seem to alleviate my hig...</td>\n",
       "      <td>I find when I am taking Micardis that I tend t...</td>\n",
       "      <td>I take Micardis in pill form once daily.</td>\n",
       "    </tr>\n",
       "  </tbody>\n",
       "</table>\n",
       "<p>3107 rows × 8 columns</p>\n",
       "</div>"
      ],
      "text/plain": [
       "           urlDrugName  rating           effectiveness  \\\n",
       "2202         enalapril       4        Highly Effective   \n",
       "3117  ortho-tri-cyclen       1        Highly Effective   \n",
       "1146           ponstel      10        Highly Effective   \n",
       "3947          prilosec       3    Marginally Effective   \n",
       "1951            lyrica       2    Marginally Effective   \n",
       "...                ...     ...                     ...   \n",
       "1039           vyvanse      10        Highly Effective   \n",
       "3281            zoloft       1             Ineffective   \n",
       "1664           climara       2    Marginally Effective   \n",
       "2621         trileptal       8  Considerably Effective   \n",
       "2748          micardis       4    Moderately Effective   \n",
       "\n",
       "                        sideEffects                               condition  \\\n",
       "2202              Mild Side Effects  management of congestive heart failure   \n",
       "3117            Severe Side Effects                        birth prevention   \n",
       "1146                No Side Effects                        menstrual cramps   \n",
       "3947              Mild Side Effects                             acid reflux   \n",
       "1951            Severe Side Effects                            fibromyalgia   \n",
       "...                             ...                                     ...   \n",
       "1039              Mild Side Effects                                    adhd   \n",
       "3281  Extremely Severe Side Effects                              depression   \n",
       "1664          Moderate Side Effects                       total hysterctomy   \n",
       "2621              Mild Side Effects                                epilepsy   \n",
       "2748          Moderate Side Effects                     high blood pressure   \n",
       "\n",
       "                                         benefitsReview  \\\n",
       "2202  slowed the progression of left ventricular dys...   \n",
       "3117  Although this type of birth control has more c...   \n",
       "1146  I was used to having cramps so badly that they...   \n",
       "3947  The acid reflux went away for a few months aft...   \n",
       "1951  I think that the Lyrica was starting to help w...   \n",
       "...                                                 ...   \n",
       "1039  Increased focus, attention, productivity. Bett...   \n",
       "3281    Emotions were somewhat blunted. Less moodiness.   \n",
       "1664                                                ---   \n",
       "2621               Controlled complex partial seizures.   \n",
       "2748  The drug Micardis did seem to alleviate my hig...   \n",
       "\n",
       "                                      sideEffectsReview  \\\n",
       "2202  cough, hypotension , proteinuria, impotence , ...   \n",
       "3117  Heavy Cycle, Cramps, Hot Flashes, Fatigue, Lon...   \n",
       "1146         Heavier bleeding and clotting than normal.   \n",
       "3947  Constipation, dry mouth and some mild dizzines...   \n",
       "1951  I felt extremely drugged and dopey.  Could not...   \n",
       "...                                                 ...   \n",
       "1039  Restless legs at night, insomnia, headache (so...   \n",
       "3281  Weight gain, extreme tiredness during the day,...   \n",
       "1664  Constant issues with the patch not staying on....   \n",
       "2621                         Dizziness, fatigue, nausea   \n",
       "2748  I find when I am taking Micardis that I tend t...   \n",
       "\n",
       "                                         commentsReview  \n",
       "2202  monitor blood pressure , weight and asses for ...  \n",
       "3117  I Hate This Birth Control, I Would Not Suggest...  \n",
       "1146  I took 2 pills at the onset of my menstrual cr...  \n",
       "3947  I was given Prilosec prescription at a dose of...  \n",
       "1951                                          See above  \n",
       "...                                                 ...  \n",
       "1039  I took adderall once as a child, and it made m...  \n",
       "3281  I was on Zoloft for about 2 years total. I am ...  \n",
       "1664                                                ---  \n",
       "2621  Started at 2 doses of 300 mg a day and worked ...  \n",
       "2748           I take Micardis in pill form once daily.  \n",
       "\n",
       "[3107 rows x 8 columns]"
      ]
     },
     "execution_count": 2,
     "metadata": {},
     "output_type": "execute_result"
    }
   ],
   "source": [
    "import pandas as pd\n",
    "df = pd.read_csv('data/drugLibTrain_raw.tsv', sep='\\t', index_col=0)\n",
    "df"
   ]
  },
  {
   "cell_type": "markdown",
   "metadata": {
    "colab_type": "text",
    "id": "OhaWDPt-8ZlT"
   },
   "source": [
    "### Descriptive Analysis"
   ]
  },
  {
   "cell_type": "markdown",
   "metadata": {},
   "source": [
    "Quedate únicamente con las columnas que podamos manejar: Columnas numéricas y columnas categoricas con pocas categorias (menos de 10)"
   ]
  },
  {
   "cell_type": "code",
   "execution_count": 3,
   "metadata": {},
   "outputs": [
    {
     "name": "stdout",
     "output_type": "stream",
     "text": [
      "<class 'pandas.core.frame.DataFrame'>\n",
      "Int64Index: 3107 entries, 2202 to 2748\n",
      "Data columns (total 8 columns):\n",
      " #   Column             Non-Null Count  Dtype \n",
      "---  ------             --------------  ----- \n",
      " 0   urlDrugName        3107 non-null   object\n",
      " 1   rating             3107 non-null   int64 \n",
      " 2   effectiveness      3107 non-null   object\n",
      " 3   sideEffects        3107 non-null   object\n",
      " 4   condition          3106 non-null   object\n",
      " 5   benefitsReview     3107 non-null   object\n",
      " 6   sideEffectsReview  3105 non-null   object\n",
      " 7   commentsReview     3099 non-null   object\n",
      "dtypes: int64(1), object(7)\n",
      "memory usage: 218.5+ KB\n"
     ]
    }
   ],
   "source": [
    "df.info()"
   ]
  },
  {
   "cell_type": "code",
   "execution_count": 4,
   "metadata": {},
   "outputs": [
    {
     "data": {
      "text/plain": [
       "urlDrugName          0\n",
       "rating               0\n",
       "effectiveness        0\n",
       "sideEffects          0\n",
       "condition            1\n",
       "benefitsReview       0\n",
       "sideEffectsReview    2\n",
       "commentsReview       8\n",
       "dtype: int64"
      ]
     },
     "execution_count": 4,
     "metadata": {},
     "output_type": "execute_result"
    }
   ],
   "source": [
    "df.isna().sum()"
   ]
  },
  {
   "cell_type": "code",
   "execution_count": 7,
   "metadata": {},
   "outputs": [
    {
     "data": {
      "text/plain": [
       "urlDrugName           502\n",
       "rating                 10\n",
       "effectiveness           5\n",
       "sideEffects             5\n",
       "condition            1426\n",
       "benefitsReview       3032\n",
       "sideEffectsReview    2814\n",
       "commentsReview       3047\n",
       "dtype: int64"
      ]
     },
     "execution_count": 7,
     "metadata": {},
     "output_type": "execute_result"
    }
   ],
   "source": [
    "df.nunique()"
   ]
  },
  {
   "cell_type": "code",
   "execution_count": 8,
   "metadata": {},
   "outputs": [
    {
     "data": {
      "text/plain": [
       "array([ 4,  1, 10,  3,  2,  9,  7,  8,  6,  5], dtype=int64)"
      ]
     },
     "execution_count": 8,
     "metadata": {},
     "output_type": "execute_result"
    }
   ],
   "source": [
    "df.rating.unique()"
   ]
  },
  {
   "cell_type": "code",
   "execution_count": 9,
   "metadata": {},
   "outputs": [
    {
     "data": {
      "text/plain": [
       "array(['Highly Effective', 'Marginally Effective', 'Ineffective',\n",
       "       'Considerably Effective', 'Moderately Effective'], dtype=object)"
      ]
     },
     "execution_count": 9,
     "metadata": {},
     "output_type": "execute_result"
    }
   ],
   "source": [
    "df.effectiveness.unique()"
   ]
  },
  {
   "cell_type": "code",
   "execution_count": 10,
   "metadata": {},
   "outputs": [
    {
     "data": {
      "text/plain": [
       "array(['Mild Side Effects', 'Severe Side Effects', 'No Side Effects',\n",
       "       'Extremely Severe Side Effects', 'Moderate Side Effects'],\n",
       "      dtype=object)"
      ]
     },
     "execution_count": 10,
     "metadata": {},
     "output_type": "execute_result"
    }
   ],
   "source": [
    "df.sideEffects.unique()"
   ]
  },
  {
   "cell_type": "code",
   "execution_count": 13,
   "metadata": {},
   "outputs": [],
   "source": [
    "df = df[[\"rating\", \"effectiveness\", \"sideEffects\"]]"
   ]
  },
  {
   "cell_type": "code",
   "execution_count": 14,
   "metadata": {},
   "outputs": [
    {
     "data": {
      "text/html": [
       "<div>\n",
       "<style scoped>\n",
       "    .dataframe tbody tr th:only-of-type {\n",
       "        vertical-align: middle;\n",
       "    }\n",
       "\n",
       "    .dataframe tbody tr th {\n",
       "        vertical-align: top;\n",
       "    }\n",
       "\n",
       "    .dataframe thead th {\n",
       "        text-align: right;\n",
       "    }\n",
       "</style>\n",
       "<table border=\"1\" class=\"dataframe\">\n",
       "  <thead>\n",
       "    <tr style=\"text-align: right;\">\n",
       "      <th></th>\n",
       "      <th>rating</th>\n",
       "      <th>effectiveness</th>\n",
       "      <th>sideEffects</th>\n",
       "    </tr>\n",
       "  </thead>\n",
       "  <tbody>\n",
       "    <tr>\n",
       "      <th>2202</th>\n",
       "      <td>4</td>\n",
       "      <td>Highly Effective</td>\n",
       "      <td>Mild Side Effects</td>\n",
       "    </tr>\n",
       "    <tr>\n",
       "      <th>3117</th>\n",
       "      <td>1</td>\n",
       "      <td>Highly Effective</td>\n",
       "      <td>Severe Side Effects</td>\n",
       "    </tr>\n",
       "    <tr>\n",
       "      <th>1146</th>\n",
       "      <td>10</td>\n",
       "      <td>Highly Effective</td>\n",
       "      <td>No Side Effects</td>\n",
       "    </tr>\n",
       "    <tr>\n",
       "      <th>3947</th>\n",
       "      <td>3</td>\n",
       "      <td>Marginally Effective</td>\n",
       "      <td>Mild Side Effects</td>\n",
       "    </tr>\n",
       "    <tr>\n",
       "      <th>1951</th>\n",
       "      <td>2</td>\n",
       "      <td>Marginally Effective</td>\n",
       "      <td>Severe Side Effects</td>\n",
       "    </tr>\n",
       "    <tr>\n",
       "      <th>...</th>\n",
       "      <td>...</td>\n",
       "      <td>...</td>\n",
       "      <td>...</td>\n",
       "    </tr>\n",
       "    <tr>\n",
       "      <th>1039</th>\n",
       "      <td>10</td>\n",
       "      <td>Highly Effective</td>\n",
       "      <td>Mild Side Effects</td>\n",
       "    </tr>\n",
       "    <tr>\n",
       "      <th>3281</th>\n",
       "      <td>1</td>\n",
       "      <td>Ineffective</td>\n",
       "      <td>Extremely Severe Side Effects</td>\n",
       "    </tr>\n",
       "    <tr>\n",
       "      <th>1664</th>\n",
       "      <td>2</td>\n",
       "      <td>Marginally Effective</td>\n",
       "      <td>Moderate Side Effects</td>\n",
       "    </tr>\n",
       "    <tr>\n",
       "      <th>2621</th>\n",
       "      <td>8</td>\n",
       "      <td>Considerably Effective</td>\n",
       "      <td>Mild Side Effects</td>\n",
       "    </tr>\n",
       "    <tr>\n",
       "      <th>2748</th>\n",
       "      <td>4</td>\n",
       "      <td>Moderately Effective</td>\n",
       "      <td>Moderate Side Effects</td>\n",
       "    </tr>\n",
       "  </tbody>\n",
       "</table>\n",
       "<p>3107 rows × 3 columns</p>\n",
       "</div>"
      ],
      "text/plain": [
       "      rating           effectiveness                    sideEffects\n",
       "2202       4        Highly Effective              Mild Side Effects\n",
       "3117       1        Highly Effective            Severe Side Effects\n",
       "1146      10        Highly Effective                No Side Effects\n",
       "3947       3    Marginally Effective              Mild Side Effects\n",
       "1951       2    Marginally Effective            Severe Side Effects\n",
       "...      ...                     ...                            ...\n",
       "1039      10        Highly Effective              Mild Side Effects\n",
       "3281       1             Ineffective  Extremely Severe Side Effects\n",
       "1664       2    Marginally Effective          Moderate Side Effects\n",
       "2621       8  Considerably Effective              Mild Side Effects\n",
       "2748       4    Moderately Effective          Moderate Side Effects\n",
       "\n",
       "[3107 rows x 3 columns]"
      ]
     },
     "execution_count": 14,
     "metadata": {},
     "output_type": "execute_result"
    }
   ],
   "source": [
    "df"
   ]
  },
  {
   "cell_type": "markdown",
   "metadata": {},
   "source": [
    "#### Transforma las columnas categoricas\n",
    "\n",
    "Transforma las columnas categoricas a numericas mediante dummies"
   ]
  },
  {
   "cell_type": "code",
   "execution_count": 20,
   "metadata": {},
   "outputs": [],
   "source": [
    "df = pd.get_dummies(data=df, columns=[\"effectiveness\", \"sideEffects\"])"
   ]
  },
  {
   "cell_type": "code",
   "execution_count": 21,
   "metadata": {},
   "outputs": [
    {
     "data": {
      "text/html": [
       "<div>\n",
       "<style scoped>\n",
       "    .dataframe tbody tr th:only-of-type {\n",
       "        vertical-align: middle;\n",
       "    }\n",
       "\n",
       "    .dataframe tbody tr th {\n",
       "        vertical-align: top;\n",
       "    }\n",
       "\n",
       "    .dataframe thead th {\n",
       "        text-align: right;\n",
       "    }\n",
       "</style>\n",
       "<table border=\"1\" class=\"dataframe\">\n",
       "  <thead>\n",
       "    <tr style=\"text-align: right;\">\n",
       "      <th></th>\n",
       "      <th>rating</th>\n",
       "      <th>effectiveness_Considerably Effective</th>\n",
       "      <th>effectiveness_Highly Effective</th>\n",
       "      <th>effectiveness_Ineffective</th>\n",
       "      <th>effectiveness_Marginally Effective</th>\n",
       "      <th>effectiveness_Moderately Effective</th>\n",
       "      <th>sideEffects_Extremely Severe Side Effects</th>\n",
       "      <th>sideEffects_Mild Side Effects</th>\n",
       "      <th>sideEffects_Moderate Side Effects</th>\n",
       "      <th>sideEffects_No Side Effects</th>\n",
       "      <th>sideEffects_Severe Side Effects</th>\n",
       "    </tr>\n",
       "  </thead>\n",
       "  <tbody>\n",
       "    <tr>\n",
       "      <th>2202</th>\n",
       "      <td>4</td>\n",
       "      <td>0</td>\n",
       "      <td>1</td>\n",
       "      <td>0</td>\n",
       "      <td>0</td>\n",
       "      <td>0</td>\n",
       "      <td>0</td>\n",
       "      <td>1</td>\n",
       "      <td>0</td>\n",
       "      <td>0</td>\n",
       "      <td>0</td>\n",
       "    </tr>\n",
       "    <tr>\n",
       "      <th>3117</th>\n",
       "      <td>1</td>\n",
       "      <td>0</td>\n",
       "      <td>1</td>\n",
       "      <td>0</td>\n",
       "      <td>0</td>\n",
       "      <td>0</td>\n",
       "      <td>0</td>\n",
       "      <td>0</td>\n",
       "      <td>0</td>\n",
       "      <td>0</td>\n",
       "      <td>1</td>\n",
       "    </tr>\n",
       "    <tr>\n",
       "      <th>1146</th>\n",
       "      <td>10</td>\n",
       "      <td>0</td>\n",
       "      <td>1</td>\n",
       "      <td>0</td>\n",
       "      <td>0</td>\n",
       "      <td>0</td>\n",
       "      <td>0</td>\n",
       "      <td>0</td>\n",
       "      <td>0</td>\n",
       "      <td>1</td>\n",
       "      <td>0</td>\n",
       "    </tr>\n",
       "    <tr>\n",
       "      <th>3947</th>\n",
       "      <td>3</td>\n",
       "      <td>0</td>\n",
       "      <td>0</td>\n",
       "      <td>0</td>\n",
       "      <td>1</td>\n",
       "      <td>0</td>\n",
       "      <td>0</td>\n",
       "      <td>1</td>\n",
       "      <td>0</td>\n",
       "      <td>0</td>\n",
       "      <td>0</td>\n",
       "    </tr>\n",
       "    <tr>\n",
       "      <th>1951</th>\n",
       "      <td>2</td>\n",
       "      <td>0</td>\n",
       "      <td>0</td>\n",
       "      <td>0</td>\n",
       "      <td>1</td>\n",
       "      <td>0</td>\n",
       "      <td>0</td>\n",
       "      <td>0</td>\n",
       "      <td>0</td>\n",
       "      <td>0</td>\n",
       "      <td>1</td>\n",
       "    </tr>\n",
       "  </tbody>\n",
       "</table>\n",
       "</div>"
      ],
      "text/plain": [
       "      rating  effectiveness_Considerably Effective  \\\n",
       "2202       4                                     0   \n",
       "3117       1                                     0   \n",
       "1146      10                                     0   \n",
       "3947       3                                     0   \n",
       "1951       2                                     0   \n",
       "\n",
       "      effectiveness_Highly Effective  effectiveness_Ineffective  \\\n",
       "2202                               1                          0   \n",
       "3117                               1                          0   \n",
       "1146                               1                          0   \n",
       "3947                               0                          0   \n",
       "1951                               0                          0   \n",
       "\n",
       "      effectiveness_Marginally Effective  effectiveness_Moderately Effective  \\\n",
       "2202                                   0                                   0   \n",
       "3117                                   0                                   0   \n",
       "1146                                   0                                   0   \n",
       "3947                                   1                                   0   \n",
       "1951                                   1                                   0   \n",
       "\n",
       "      sideEffects_Extremely Severe Side Effects  \\\n",
       "2202                                          0   \n",
       "3117                                          0   \n",
       "1146                                          0   \n",
       "3947                                          0   \n",
       "1951                                          0   \n",
       "\n",
       "      sideEffects_Mild Side Effects  sideEffects_Moderate Side Effects  \\\n",
       "2202                              1                                  0   \n",
       "3117                              0                                  0   \n",
       "1146                              0                                  0   \n",
       "3947                              1                                  0   \n",
       "1951                              0                                  0   \n",
       "\n",
       "      sideEffects_No Side Effects  sideEffects_Severe Side Effects  \n",
       "2202                            0                                0  \n",
       "3117                            0                                1  \n",
       "1146                            1                                0  \n",
       "3947                            0                                0  \n",
       "1951                            0                                1  "
      ]
     },
     "execution_count": 21,
     "metadata": {},
     "output_type": "execute_result"
    }
   ],
   "source": [
    "df.head()"
   ]
  },
  {
   "cell_type": "markdown",
   "metadata": {
    "colab_type": "text",
    "id": "HtBmwGdNnUGf"
   },
   "source": [
    "#### Evalua cual es la mejor K\n",
    "\n",
    "Utiliza silhouette_score para evaluar cual es la mejor K. Evalua como mucho K = 20"
   ]
  },
  {
   "cell_type": "code",
   "execution_count": 25,
   "metadata": {},
   "outputs": [],
   "source": [
    "from sklearn.metrics import silhouette_samples, silhouette_score\n",
    "from sklearn.preprocessing import MinMaxScaler\n",
    "from sklearn.cluster import KMeans\n",
    "seed = 2023"
   ]
  },
  {
   "cell_type": "code",
   "execution_count": 34,
   "metadata": {},
   "outputs": [
    {
     "name": "stdout",
     "output_type": "stream",
     "text": [
      "K = 2, silhouette score = 0.6055089618561077\n",
      "K = 3, silhouette score = 0.4381585450078779\n",
      "K = 4, silhouette score = 0.39705280988017827\n",
      "K = 5, silhouette score = 0.35632018427663514\n",
      "K = 6, silhouette score = 0.35346551952374916\n",
      "K = 7, silhouette score = 0.3762534131169205\n",
      "K = 8, silhouette score = 0.42013439198877733\n",
      "K = 9, silhouette score = 0.43397180104316296\n",
      "K = 10, silhouette score = 0.4212447526220678\n",
      "K = 11, silhouette score = 0.45637478081058674\n",
      "K = 12, silhouette score = 0.43342185016954343\n",
      "K = 13, silhouette score = 0.4602584666090989\n",
      "K = 14, silhouette score = 0.4786056772236951\n",
      "K = 15, silhouette score = 0.45919168203814625\n",
      "K = 16, silhouette score = 0.4657443258214647\n",
      "K = 17, silhouette score = 0.5004071027533769\n",
      "K = 18, silhouette score = 0.49977310520943363\n",
      "K = 19, silhouette score = 0.517624537996814\n",
      "K = 20, silhouette score = 0.5267946938883822\n"
     ]
    }
   ],
   "source": [
    "for k in range(2,21):\n",
    "    kmeans = KMeans(n_clusters=k, random_state=seed)\n",
    "    kmeans.fit(df)\n",
    "    labels = kmeans.labels_\n",
    "    score = silhouette_score(df,labels)\n",
    "    print(f\"K = {k}, silhouette score = {score}\")\n"
   ]
  },
  {
   "cell_type": "markdown",
   "metadata": {},
   "source": [
    "#### Genera el K Means "
   ]
  },
  {
   "cell_type": "code",
   "execution_count": 35,
   "metadata": {},
   "outputs": [
    {
     "data": {
      "text/plain": [
       "KMeans(n_clusters=2, random_state=2023)"
      ]
     },
     "execution_count": 35,
     "metadata": {},
     "output_type": "execute_result"
    }
   ],
   "source": [
    "km = KMeans(n_clusters=2, random_state=seed)\n",
    "km.fit(df)"
   ]
  },
  {
   "cell_type": "code",
   "execution_count": 39,
   "metadata": {},
   "outputs": [],
   "source": [
    "labels = km.labels_"
   ]
  },
  {
   "cell_type": "code",
   "execution_count": 37,
   "metadata": {},
   "outputs": [
    {
     "data": {
      "text/plain": [
       "array([0, 0, 1, ..., 0, 1, 0])"
      ]
     },
     "execution_count": 37,
     "metadata": {},
     "output_type": "execute_result"
    }
   ],
   "source": [
    "km.predict(df)"
   ]
  },
  {
   "cell_type": "code",
   "execution_count": 38,
   "metadata": {},
   "outputs": [
    {
     "data": {
      "text/plain": [
       "9743.174036708004"
      ]
     },
     "execution_count": 38,
     "metadata": {},
     "output_type": "execute_result"
    }
   ],
   "source": [
    "km.inertia_"
   ]
  },
  {
   "cell_type": "markdown",
   "metadata": {},
   "source": [
    "#### Muestra en un gráfico de tartas la distribución de los distintos clusters"
   ]
  },
  {
   "cell_type": "code",
   "execution_count": 40,
   "metadata": {},
   "outputs": [],
   "source": [
    "import numpy as np"
   ]
  },
  {
   "cell_type": "code",
   "execution_count": 41,
   "metadata": {},
   "outputs": [],
   "source": [
    "unique, counts = np.unique(labels, return_counts=True)"
   ]
  },
  {
   "cell_type": "code",
   "execution_count": 42,
   "metadata": {},
   "outputs": [
    {
     "data": {
      "image/png": "[encoded data removed]",
      "text/plain": [
       "<Figure size 640x480 with 1 Axes>"
      ]
     },
     "metadata": {},
     "output_type": "display_data"
    }
   ],
   "source": [
    "plt.pie(counts, labels=unique,autopct=\"%1.1f%%\")\n",
    "plt.axis(\"equal\")\n",
    "plt.show()"
   ]
  }
 ],
 "metadata": {
  "colab": {
   "collapsed_sections": [],
   "name": "kmeans-user-clustering.ipynb",
   "provenance": []
  },
  "kernelspec": {
   "display_name": "Python 3",
   "language": "python",
   "name": "python3"
  },
  "language_info": {
   "codemirror_mode": {
    "name": "ipython",
    "version": 3
   },
   "file_extension": ".py",
   "mimetype": "text/x-python",
   "name": "python",
   "nbconvert_exporter": "python",
   "pygments_lexer": "ipython3",
   "version": "3.7.4"
  },
  "nbTranslate": {
   "displayLangs": [
    "*"
   ],
   "hotkey": "alt-t",
   "langInMainMenu": true,
   "sourceLang": "en",
   "targetLang": "fr",
   "useGoogleTranslate": true
  },
  "varInspector": {
   "cols": {
    "lenName": 16,
    "lenType": 16,
    "lenVar": 40
   },
   "kernels_config": {
    "python": {
     "delete_cmd_postfix": "",
     "delete_cmd_prefix": "del ",
     "library": "var_list.py",
     "varRefreshCmd": "print(var_dic_list())"
    },
    "r": {
     "delete_cmd_postfix": ") ",
     "delete_cmd_prefix": "rm(",
     "library": "var_list.r",
     "varRefreshCmd": "cat(var_dic_list()) "
    }
   },
   "types_to_exclude": [
    "module",
    "function",
    "builtin_function_or_method",
    "instance",
    "_Feature"
   ],
   "window_display": false
  },
  "vscode": {
   "interpreter": {
    "hash": "924a151fb5973f04e416f421822c1ba91474c73a1f889bcdd604a279afead29a"
   }
  }
 },
 "nbformat": 4,
 "nbformat_minor": 4
}
