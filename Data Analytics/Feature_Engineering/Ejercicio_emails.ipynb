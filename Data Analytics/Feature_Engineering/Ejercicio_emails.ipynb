{
 "cells": [
  {
   "cell_type": "markdown",
   "metadata": {},
   "source": [
    "# Extrae los dominios de los correos con una expresión regular"
   ]
  },
  {
   "cell_type": "code",
   "execution_count": 1,
   "metadata": {},
   "outputs": [],
   "source": [
    "import re\n",
    "\n",
    "emails = '''\n",
    "peperamos@thebridgeschool.tech\n",
    "pepe.ramos@uc3m.es\n",
    "pepe-12-1993@mi-correo.net\n",
    "peprams@s@thebridgeschool.es\n",
    "'''"
   ]
  },
  {
   "cell_type": "code",
   "execution_count": 2,
   "metadata": {},
   "outputs": [
    {
     "name": "stdout",
     "output_type": "stream",
     "text": [
      "<re.Match object; span=(10, 31), match='@thebridgeschool.tech'>\n",
      "<re.Match object; span=(42, 50), match='@uc3m.es'>\n",
      "<re.Match object; span=(63, 77), match='@mi-correo.net'>\n",
      "<re.Match object; span=(85, 106), match='@s@thebridgeschool.es'>\n"
     ]
    }
   ],
   "source": [
    "pattern = re.compile(r'@.+')\n",
    "\n",
    "matches = pattern.finditer(emails)\n",
    "\n",
    "for match in matches:\n",
    "    print(match)\n"
   ]
  },
  {
   "cell_type": "code",
   "execution_count": 24,
   "metadata": {},
   "outputs": [
    {
     "name": "stdout",
     "output_type": "stream",
     "text": [
      "<re.Match object; span=(10, 32), match='@thebridgeschool.tech\\n'>\n",
      "<re.Match object; span=(42, 51), match='@uc3m.es\\n'>\n",
      "<re.Match object; span=(63, 78), match='@mi-correo.net\\n'>\n",
      "<re.Match object; span=(87, 107), match='@thebridgeschool.es\\n'>\n"
     ]
    }
   ],
   "source": [
    "pattern = re.compile(r'@[^@]*\\s')\n",
    "\n",
    "matches = pattern.finditer(emails)\n",
    "\n",
    "for match in matches:\n",
    "    print(match)\n",
    "\n",
    "# NO ME SALE QUITAR LA \\N"
   ]
  },
  {
   "cell_type": "markdown",
   "metadata": {},
   "source": [
    "Es decir.. \n",
    "* @thebridgeschool.tech\n",
    "* @uc3m.es\n",
    "* @mi-correo.net\n",
    "* @thebridgeschool.es"
   ]
  }
 ],
 "metadata": {
  "kernelspec": {
   "display_name": "Python 3",
   "language": "python",
   "name": "python3"
  },
  "language_info": {
   "codemirror_mode": {
    "name": "ipython",
    "version": 3
   },
   "file_extension": ".py",
   "mimetype": "text/x-python",
   "name": "python",
   "nbconvert_exporter": "python",
   "pygments_lexer": "ipython3",
   "version": "3.7.4"
  },
  "orig_nbformat": 4,
  "vscode": {
   "interpreter": {
    "hash": "924a151fb5973f04e416f421822c1ba91474c73a1f889bcdd604a279afead29a"
   }
  }
 },
 "nbformat": 4,
 "nbformat_minor": 2
}
