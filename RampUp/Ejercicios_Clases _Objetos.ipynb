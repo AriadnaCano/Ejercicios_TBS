{
 "cells": [
  {
   "cell_type": "markdown",
   "metadata": {},
   "source": [
    "![imagen](./img/ejercicios.png)\n",
    "\n",
    "# Ejercicios Clases y Objetos"
   ]
  },
  {
   "cell_type": "markdown",
   "metadata": {},
   "source": [
    "## Ejercicio 1\n",
    "Somos una empresa que tiene varias tiendas de electrodomesticos. Necesitamos un programa para manejar las tiendas, ver las ventas que han tenido, cuántos empleados hay, etc... Para ello vamos a modelizar la tienda en una clase, que tendrá las siguientes características:\n",
    "* Nombre clase: \"Tienda\"\n",
    "* Atributos comunes:\n",
    "    * Tipo: \"Electrodomésticos\"\n",
    "    * Abierta: True\n",
    "* Atributos propios de cada tienda:\n",
    "    * Nombre - String\n",
    "    * Dirección - String\n",
    "    * Número de empleados - int\n",
    "    * Ventas ultimos 3 meses - Lista de 3 numeros\n",
    "* Método para calcular las ventas de todos los meses, que devuelva un numero con todas las ventas.\n",
    "* Método que calcula la media de ventas de los ultimos meses, por empleado\n",
    "* Método que devuelve en un string el nombre de la tienda, junto con su dirección.\n",
    "* Método que obtiene las ventas del último mes.\n",
    "* Método para dar una proyección de las ventas en caso de haber invertido X dinero en marketing en esa tienda. Siendo X el parámetro de entrada. Si X es menor de 1000, las ventas de los ultimos 3 meses hubiesen sido de (1.2 x ventas), si es mayor o igual de 1000, las ventas hubiesen sido de (1.5 x venta). El método reescribe el atributo de ventas en los últimos 3 meses, y además devuelve las ventas con el aumento.\n",
    "\n",
    "Se pide:\n",
    "1. Implementar la clase \"Tienda\"\n",
    "2. Crear tres tiendas con datos inventados\n",
    "3. Comprueba en al menos una de ellas, todo lo implementado en la clase tienda (sus atributos, media de ventas, ventas/empleado...)\n",
    "3. Calcular las ventas del último mes de todas las tiendas. Para ello usa el bucle `for`\n",
    "4. Imprime por pantalla los nombres de las tiendas cuya dirección lleve el string \"Avenida\"\n",
    "5. Seguro que ya has hecho este apartado... Documenta la clase :)"
   ]
  },
  {
   "cell_type": "code",
   "execution_count": 2,
   "metadata": {},
   "outputs": [],
   "source": [
    "class Tienda:\n",
    "    '''\n",
    "    Clase tienda con parámetros comunes que indican el tipo de tienda y si está abierta (True/False)\n",
    "    '''\n",
    "    Tipo = \"Electrodomésticos\"\n",
    "    Abierta = True\n",
    "\n",
    "    def __init__(self, nombre_tienda:str, direccion_tienda:str, empleados:int, ventas_3:list):\n",
    "        self.nombre = nombre_tienda\n",
    "        self.direccion = direccion_tienda\n",
    "        self.empleados = empleados\n",
    "        self.ventas_3 = ventas_3\n",
    "    '''\n",
    "    atributos propios de cada tienda que aporta el usuario: nombre de la tienda, dirección, número de empleados y las ventas obtenidas\n",
    "    en los últimos 3 meses\n",
    "    '''\n",
    "    \n",
    "    def ventas_año(self):\n",
    "        return sum(self.ventas_3)\n",
    "    '''\n",
    "    Método para devolver el total de las ventas (float)\n",
    "    '''\n",
    "\n",
    "    def venta_empleado(self):\n",
    "            return sum(self.ventas_3) / self.empleados\n",
    "    '''\n",
    "    Método para devolver el total de ventas de cada empleado (float)\n",
    "    '''\n",
    "    \n",
    "    def nombre_direcc (self):\n",
    "        return self.nombre + \" \" + self.direccion\n",
    "    '''\n",
    "    Método para devolver el nombre de la tienda (str) junto con su dirección (str)\n",
    "    '''\n",
    "    def ult_mes (self):\n",
    "        return self.ventas_3[-1]\n",
    "    '''\n",
    "    Método utilizado para mostrar las ventas del último mes (float)\n",
    "    '''\n",
    "\n",
    "    def marketing(self, param_entrada):\n",
    "        if param_entrada < 1000:\n",
    "            return sum(self.ventas_3) * 1.2\n",
    "        elif param_entrada >= 1000:\n",
    "            return sum(self.ventas_3) * 1.5\n",
    "    '''\n",
    "    Método para calcular los beneficios en base a capital invertido (float)\n",
    "    '''\n",
    "        "
   ]
  },
  {
   "cell_type": "code",
   "execution_count": 8,
   "metadata": {},
   "outputs": [
    {
     "name": "stdout",
     "output_type": "stream",
     "text": [
      "515.0\n",
      "103.0\n",
      "ElectroAri Calle Desengaño, 123\n",
      "203.0\n",
      "772.5\n",
      "[203.0, 56.0, 150.0]\n",
      "409.0\n",
      "La Ari tienda Avenida del infierno, 666\n"
     ]
    }
   ],
   "source": [
    "# 1 Creación de tiendas y comprobación de métodos\n",
    "tienda_1 = Tienda (\"ElectroAri\",\"Calle Desengaño, 123\", 5, [125.000, 187.000, 203.000])\n",
    "tienda_2 = Tienda (\"Aridomesticos\", \"Calle Falsa, 123\", 8, [184.000, 220.000, 56.000])\n",
    "tienda_3 = Tienda (\"La Ari tienda\", \"Avenida del infierno, 666\", 10, [220.000, 197.000, 150.000])\n",
    "\n",
    "print(tienda_1.ventas_año())\n",
    "print(tienda_1.venta_empleado())\n",
    "print(tienda_1.nombre_direcc())\n",
    "print(tienda_1.ult_mes())\n",
    "print(tienda_1.marketing(1500))\n",
    "\n",
    "# 2 Cálculo de ventas del último mes en todas las tiendas.\n",
    "lista_tiendas = [tienda_1, tienda_2, tienda_3]\n",
    "ult_mes_venta = []\n",
    "for tienda in lista_tiendas:\n",
    "    ult_mes_venta.append(tienda.ult_mes())\n",
    "\n",
    "print(ult_mes_venta)\n",
    "print(sum(ult_mes_venta))\n",
    "\n",
    "# 3 String Avenida\n",
    "lista_tiendas = [tienda_1, tienda_2, tienda_3]\n",
    "\n",
    "for tienda in lista_tiendas:\n",
    "    if \"Avenida\" in tienda.direccion:\n",
    "        print(tienda.nombre + \" \" + tienda.direccion)\n"
   ]
  },
  {
   "cell_type": "markdown",
   "metadata": {},
   "source": [
    "## Ejercicio 2\n",
    "En este ejercicio vamos a implementar una clase *Perro* en Python. La clase tiene las siguientes características:\n",
    "* Cosas que sabemos seguro que tiene un perro\n",
    "    * Tiene 4 patas\n",
    "    * 2 orejas\n",
    "    * 2 ojos\n",
    "    * Una velocidad de 0. Por defecto, el perro está parado\n",
    "* Cuando se inicialice:\n",
    "    * El perro será de una determinada raza\n",
    "    * Por defecto tendrá pelo \"Marrón\", a no ser que se diga lo contrario.\n",
    "    * Por defecto no tendrá dueño, a no ser que se diga lo contrario.\n",
    "    \n",
    "* Dispondrá también de un método llamado andar, que tiene un argumento de entrada (aumento_velocidad). Este valor se le sumará a la velocidad que ya llevaba el perro.\n",
    "* Necesita otro método (parar), donde pondremos la velocidad a 0.\n",
    "* Otro método llamado \"ladrar\", que tendrá un argumento de entrada, y la salida será el siguiente string: \"GUAU!\" + el argumento de entrada.\n",
    "\n",
    "\n",
    "Se pide:\n",
    "* Implementa la clase *Perro*\n",
    "* Crea un objeto de tipo *Perro*, sin dueño\n",
    "* Comprueba que están bien todos sus atributos\n",
    "* Prueba que ande, y comprueba su velocidad\n",
    "* Páralo\n",
    "* Documenta la clase *Perro*"
   ]
  },
  {
   "cell_type": "code",
   "execution_count": 1,
   "metadata": {},
   "outputs": [],
   "source": [
    "class Perro:\n",
    "    '''\n",
    "Clase perro, con parámetros comunes que indican el número (int) de patas, orejas, ojos y la velocidad.\n",
    "'''\n",
    "    Patas = 4\n",
    "    Orejas = 2\n",
    "    Ojos = 2\n",
    "    Velocidad = 0\n",
    "    def __init__(self, raza:str, color_pelo = \"Marron\", duenio=None):\n",
    "        self.raza = raza\n",
    "        self.pelo = color_pelo\n",
    "        self.dueño = duenio\n",
    "        \n",
    "    '''\n",
    "Argumentos variables dados por el usuario, indican la raza del perro (str), el color de pelo (str, por defecto Marrón) \n",
    "y el dueño (None por defecto)\n",
    "'''\n",
    "    \n",
    "    def andar(self, aumento_vel):\n",
    "\n",
    "        self.Velocidad = self.Velocidad + aumento_vel\n",
    "        return self.Velocidad\n",
    "    '''\n",
    "Método que devuelve el aumento de velocidad del perro (int), teniendo por defecto un estado de velocidad 0. La velocidad la indica el usuario\n",
    "'''\n",
    "    \n",
    "    def ladrar(self, ladrido):\n",
    "        return \"GUAU!\" + \" \" + str(ladrido)\n",
    "    \n",
    "    def parada(self):\n",
    "        self.Velocidad = 0\n"
   ]
  },
  {
   "cell_type": "code",
   "execution_count": 2,
   "metadata": {},
   "outputs": [
    {
     "name": "stdout",
     "output_type": "stream",
     "text": [
      "Yorkshire\n",
      "Marron\n",
      "10\n",
      "0\n"
     ]
    },
    {
     "data": {
      "text/plain": [
       "'GUAU! DAME DE COMER'"
      ]
     },
     "execution_count": 2,
     "metadata": {},
     "output_type": "execute_result"
    }
   ],
   "source": [
    "mi_perro = Perro (\"Yorkshire\")\n",
    "print(mi_perro.raza)\n",
    "print(mi_perro.pelo)\n",
    "# print(mi_perro.duenio)\n",
    "mi_perro.andar(10)\n",
    "print(mi_perro.Velocidad)\n",
    "mi_perro.parada()\n",
    "print(mi_perro.Velocidad)\n",
    "mi_perro.ladrar (\"DAME DE COMER\")\n",
    "  "
   ]
  }
 ],
 "metadata": {
  "kernelspec": {
   "display_name": "Python 3.7.4 64-bit",
   "language": "python",
   "name": "python3"
  },
  "language_info": {
   "codemirror_mode": {
    "name": "ipython",
    "version": 3
   },
   "file_extension": ".py",
   "mimetype": "text/x-python",
   "name": "python",
   "nbconvert_exporter": "python",
   "pygments_lexer": "ipython3",
   "version": "3.7.4"
  },
  "vscode": {
   "interpreter": {
    "hash": "924a151fb5973f04e416f421822c1ba91474c73a1f889bcdd604a279afead29a"
   }
  }
 },
 "nbformat": 4,
 "nbformat_minor": 4
}
