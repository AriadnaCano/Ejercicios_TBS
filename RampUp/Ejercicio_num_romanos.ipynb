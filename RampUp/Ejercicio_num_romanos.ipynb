{
 "cells": [
  {
   "cell_type": "markdown",
   "id": "b76d7833-5ba7-44ea-9bb0-12966c90e897",
   "metadata": {},
   "source": [
    "# Clase de utilidad 1 - Números romanos\n",
    "\n",
    "Crea una clase que se llame RomanNumerals, que tiene como objetivo crear un código que nos permita pasar numeros de formato decimal (normal) a formato de números romanos, y al revés. \n",
    "\n",
    "La clase se inicializa sin parametros, y no tendrá ningun atributo __requerido__. Dentro de la clase, puedes usar los atributos que creas necesarios. \n",
    "\n",
    "La clase tiene que tener dos funciones, una para pasar de romano a decimal, y otra de decimal a romano. \n",
    "\n",
    "## Ejemplo de funcionalidad esperada.\n",
    "\n",
    "```python\n",
    ">>> x = RomanNumerals()\n",
    ">>> n1 = x.decimal_to_roman(10)\n",
    ">>> print(n1)\n",
    "'X'\n",
    ">>> print(type(n1))\n",
    "str\n",
    ">>> n2 = x.roman_to_decimal('X')\n",
    ">>> print(n2)\n",
    "10\n",
    ">>> print(type(n2))\n",
    "int\n",
    "\n",
    "```\n",
    "\n",
    "## Pruebas para evaluar\n",
    "\n",
    "Se ejecutarán 10 pruebas para cada método:\n",
    "\n",
    "```python\n",
    ">>> x = RomanNumerals()\n",
    ">>> n1 = x.decimal_to_roman(10)\n",
    ">>> n2 = x.decimal_to_roman(25)\n",
    ">>> n3 = x.decimal_to_roman(36)\n",
    ">>> n4 = x.decimal_to_roman(150)\n",
    ">>> n5 = x.decimal_to_roman(1389)\n",
    ">>> ...\n",
    ">>> ...\n",
    ">>> ...\n",
    ">>> ...\n",
    ">>> ...\n",
    ">>> n11 = x.roman_to_decimal('XXV')\n",
    ">>> n12 = x.roman_to_decimal('IV')\n",
    ">>> n13 = x.roman_to_decimal('DCLXXIV')\n",
    ">>> n14 = x.roman_to_decimal('DCCCXLV')\n",
    ">>> n15 = x.roman_to_decimal('MCXXXIX')\n",
    ">>> ...\n",
    ">>> ...\n",
    ">>> ...\n",
    ">>> ...\n",
    ">>> ...\n",
    "```\n",
    "\n",
    "## Recursos\n",
    "\n",
    "1. Los apuntes de clase para Ifs, For, Funciones, y Clases\n",
    "2. Si no os acordais de como se hacían los numeros romanos: https://www.matesfacil.com/ESO/sistemas-numeracion/sistema-romano/sistema-numeracion-romano-alfabeto-teoria-ejemplos-ejercicios-resueltos-numeros-cambio.html"
   ]
  },
  {
   "cell_type": "markdown",
   "id": "60fa9a7e-8a0b-45af-8095-5031156ad18e",
   "metadata": {},
   "source": [
    "# Tu código"
   ]
  },
  {
   "cell_type": "code",
   "execution_count": 4,
   "id": "4fb1b69d-ea4e-4489-964b-0fdb670e6853",
   "metadata": {},
   "outputs": [],
   "source": [
    "class RomanNumerals():\n",
    "    '''Esta función sirve para pasar de números romanos a número entero. Se define un diccionario con las equivalencias de romano a entero. Con un bucle for se itera sobre el número\n",
    "    introducido, partiendo del range len del número. El bucle if comprueba si el elemento tiene un siguiente número comparándolo con el len del número introducido. y si es así mira en el dict \n",
    "    la equivalencia del número introducido más el siguiente para saber si es menor o mayor y en función de eso sumar o restar la cantidad del siguiente número al número introducido. El bucle\n",
    "    se hace con todos los índices del número introducido. La variable num es la que se va actualizando en cada bucle con el resultado del IF/ELSE. Una vez terminado el bucle se retorna el \n",
    "    numero que haya en la variable num\n",
    "'''\n",
    "def roman_to_decimal(num_romano):\n",
    "\n",
    "        romanos = {'I': 1, 'V': 5, 'X': 10, 'L': 50, 'C': 100, 'D': 500, 'M': 1000}\n",
    "        num = 0\n",
    "        for e in range (len(num_romano)):\n",
    "            if e + 1 < len(num_romano) and romanos[num_romano[e]] < romanos [num_romano[e+1]]:\n",
    "                num = num - romanos [num_romano[e]]\n",
    "            else:\n",
    "                num = num + romanos [num_romano[e]]\n",
    "        return num\n",
    "\n",
    "''' Esta funcion pasa de numeros romanos a enteros. Recorremos las lista de enteros empezando por el final y el número introducido se irá dividiendo por todos los números de la lista hasta\n",
    "que llegue a 0. El cociente de la division nos indica el numero de veces que estará la letra en el resultado final, para ver que letra es la que corresponde con el numero entero también hay que\n",
    "recorrer la lista romano, ambas listas con un bucle while para que se hagan las sucesivas divisiones. El resto de la división será la próxima division pero se dividirá con la posición anterior\n",
    "Se definen las lista de numeros enteros, sus equivalencias en romano y la posicion a comenzar. Posteriormente con bucle while se realizan las consecutivas divisiones.'''\n",
    "\n",
    "def decimal_to_roman(num_entero):\n",
    "    entero = [1, 4, 5, 9, 10, 40, 50, 90, 100, 400, 500, 900, 1000]\n",
    "    romano = [\"I\", \"IV\", \"V\", \"IX\", \"X\", \"XL\", \"L\", \"XC\", \"C\", \"CD\", \"D\", \"CM\", \"M\"]\n",
    "    posicion = 12\n",
    "\n",
    "    while num_entero:\n",
    "        division = num_entero // entero[posicion]\n",
    "        num_entero %= entero[posicion]\n",
    "        while division:\n",
    "            print(romano[posicion], end = \"\")\n",
    "            division = division - 1\n",
    "        posicion = posicion - 1\n"
   ]
  },
  {
   "cell_type": "code",
   "execution_count": 2,
   "id": "a5610be9-9df1-40e9-a4c6-125a0620f6c5",
   "metadata": {},
   "outputs": [
    {
     "data": {
      "text/plain": [
       "23"
      ]
     },
     "execution_count": 2,
     "metadata": {},
     "output_type": "execute_result"
    }
   ],
   "source": [
    "roman_to_decimal(\"XXIII\")"
   ]
  },
  {
   "cell_type": "code",
   "execution_count": 3,
   "id": "e8154117-0f30-4f43-9d92-5b7c2bdcb8dc",
   "metadata": {},
   "outputs": [
    {
     "name": "stdout",
     "output_type": "stream",
     "text": [
      "DXLIX"
     ]
    }
   ],
   "source": [
    "decimal_to_roman(549)"
   ]
  }
 ],
 "metadata": {
  "kernelspec": {
   "display_name": "Python 3.7.4 64-bit",
   "language": "python",
   "name": "python3"
  },
  "language_info": {
   "codemirror_mode": {
    "name": "ipython",
    "version": 3
   },
   "file_extension": ".py",
   "mimetype": "text/x-python",
   "name": "python",
   "nbconvert_exporter": "python",
   "pygments_lexer": "ipython3",
   "version": "3.7.4"
  },
  "vscode": {
   "interpreter": {
    "hash": "924a151fb5973f04e416f421822c1ba91474c73a1f889bcdd604a279afead29a"
   }
  }
 },
 "nbformat": 4,
 "nbformat_minor": 5
}
